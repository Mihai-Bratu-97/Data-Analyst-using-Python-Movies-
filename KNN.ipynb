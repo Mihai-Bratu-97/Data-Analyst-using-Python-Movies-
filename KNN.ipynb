{
 "cells": [
  {
   "cell_type": "code",
   "execution_count": 20,
   "id": "6feb1287",
   "metadata": {},
   "outputs": [],
   "source": [
    "import pandas as pd\n",
    "import numpy as np\n",
    "import matplotlib.pyplot as plt\n",
    "from sklearn.model_selection import train_test_split\n",
    "from sklearn.neighbors import KNeighborsRegressor\n",
    "\n",
    "pd.options.mode.chained_assignment = None"
   ]
  },
  {
   "cell_type": "code",
   "execution_count": 21,
   "id": "4e586d9f",
   "metadata": {},
   "outputs": [],
   "source": [
    "movies2 = pd.read_csv(\"C:/Users/bratu/PycharmProjects/pythonProject/movies_metadata.csv\", low_memory=False)"
   ]
  },
  {
   "cell_type": "markdown",
   "id": "edf512fb",
   "metadata": {},
   "source": [
    "### The budget column"
   ]
  },
  {
   "cell_type": "code",
   "execution_count": 22,
   "id": "beb6b93a",
   "metadata": {
    "scrolled": true
   },
   "outputs": [
    {
     "data": {
      "text/plain": [
       "0        30000000\n",
       "1        65000000\n",
       "2               0\n",
       "3        16000000\n",
       "4               0\n",
       "           ...   \n",
       "45461           0\n",
       "45462           0\n",
       "45463           0\n",
       "45464           0\n",
       "45465           0\n",
       "Name: budget, Length: 45466, dtype: object"
      ]
     },
     "execution_count": 22,
     "metadata": {},
     "output_type": "execute_result"
    }
   ],
   "source": [
    "movies2[\"budget\"]"
   ]
  },
  {
   "cell_type": "code",
   "execution_count": 23,
   "id": "59f9570f",
   "metadata": {},
   "outputs": [
    {
     "data": {
      "text/plain": [
       "0"
      ]
     },
     "execution_count": 23,
     "metadata": {},
     "output_type": "execute_result"
    }
   ],
   "source": [
    "movies2[\"budget\"].isnull().sum()"
   ]
  },
  {
   "cell_type": "code",
   "execution_count": 24,
   "id": "d3fa0ab9",
   "metadata": {},
   "outputs": [
    {
     "data": {
      "text/plain": [
       "0           0.804403\n",
       "5000000     0.006290\n",
       "10000000    0.005697\n",
       "20000000    0.005345\n",
       "2000000     0.005323\n",
       "              ...   \n",
       "923         0.000022\n",
       "72500000    0.000022\n",
       "2160000     0.000022\n",
       "4439832     0.000022\n",
       "1254040     0.000022\n",
       "Name: budget, Length: 1226, dtype: float64"
      ]
     },
     "execution_count": 24,
     "metadata": {},
     "output_type": "execute_result"
    }
   ],
   "source": [
    "movies2[\"budget\"].value_counts(normalize=True)"
   ]
  },
  {
   "cell_type": "code",
   "execution_count": 25,
   "id": "ff4bb66f",
   "metadata": {},
   "outputs": [],
   "source": [
    "movies2[\"budget\"] = movies2.budget.apply(lambda row: int(row) if row.isnumeric() else 2000000)"
   ]
  },
  {
   "cell_type": "code",
   "execution_count": 26,
   "id": "dba8c95f",
   "metadata": {},
   "outputs": [
    {
     "data": {
      "text/plain": [
       "0        30000000\n",
       "1        65000000\n",
       "2               0\n",
       "3        16000000\n",
       "4               0\n",
       "           ...   \n",
       "45461           0\n",
       "45462           0\n",
       "45463           0\n",
       "45464           0\n",
       "45465           0\n",
       "Name: budget, Length: 45466, dtype: int64"
      ]
     },
     "execution_count": 26,
     "metadata": {},
     "output_type": "execute_result"
    }
   ],
   "source": [
    "movies2[\"budget\"]"
   ]
  },
  {
   "cell_type": "code",
   "execution_count": 27,
   "id": "b4b3680e",
   "metadata": {},
   "outputs": [
    {
     "data": {
      "image/png": "[encoded data removed]",
      "text/plain": [
       "<Figure size 432x288 with 1 Axes>"
      ]
     },
     "metadata": {
      "needs_background": "light"
     },
     "output_type": "display_data"
    }
   ],
   "source": [
    "plt.hist(movies2[\"budget\"])\n",
    "plt.title(\"The distribution of the budgets\")\n",
    "plt.show()\n",
    "plt.close()"
   ]
  },
  {
   "cell_type": "code",
   "execution_count": 28,
   "id": "dd985c4e",
   "metadata": {},
   "outputs": [
    {
     "data": {
      "image/png": "[encoded data removed]",
      "text/plain": [
       "<Figure size 432x288 with 1 Axes>"
      ]
     },
     "metadata": {
      "needs_background": "light"
     },
     "output_type": "display_data"
    }
   ],
   "source": [
    "plt.boxplot(movies2[\"budget\"])\n",
    "plt.title(\"Outliers in budgets distribution\")\n",
    "plt.show()\n",
    "plt.close()"
   ]
  },
  {
   "cell_type": "code",
   "execution_count": 29,
   "id": "98280244",
   "metadata": {},
   "outputs": [],
   "source": [
    "movies2 = movies2[movies2[\"budget\"] > 0]"
   ]
  },
  {
   "cell_type": "code",
   "execution_count": 30,
   "id": "dde7d133",
   "metadata": {},
   "outputs": [],
   "source": [
    "movies2[\"budget\"] = movies2.budget.apply(lambda row: row if row >= 200000 else 200000)"
   ]
  },
  {
   "cell_type": "code",
   "execution_count": 31,
   "id": "7860c49a",
   "metadata": {},
   "outputs": [
    {
     "data": {
      "image/png": "[encoded data removed]",
      "text/plain": [
       "<Figure size 432x288 with 1 Axes>"
      ]
     },
     "metadata": {
      "needs_background": "light"
     },
     "output_type": "display_data"
    }
   ],
   "source": [
    "plt.boxplot(movies2[\"budget\"])\n",
    "plt.title(\"Outliers in budgets distribution\")\n",
    "plt.show()\n",
    "plt.close()"
   ]
  },
  {
   "cell_type": "code",
   "execution_count": 32,
   "id": "3fed16b4",
   "metadata": {},
   "outputs": [
    {
     "data": {
      "text/plain": [
       "(-67000000, 94000000)"
      ]
     },
     "execution_count": 32,
     "metadata": {},
     "output_type": "execute_result"
    }
   ],
   "source": [
    "q1 = np.percentile(movies2[\"budget\"], 25)\n",
    "q3 = np.percentile(movies2[\"budget\"], 75)\n",
    "iqr = q3 - q1\n",
    "q_min, q_max = int(q1 - 3*iqr), int(q3 + 3*iqr)\n",
    "q_min, q_max"
   ]
  },
  {
   "cell_type": "code",
   "execution_count": 33,
   "id": "072a0162",
   "metadata": {},
   "outputs": [],
   "source": [
    "movies2[\"budget\"] = movies2[\"budget\"].clip(q_min, q_max)"
   ]
  },
  {
   "cell_type": "code",
   "execution_count": 34,
   "id": "285eb541",
   "metadata": {},
   "outputs": [
    {
     "data": {
      "image/png": "[encoded data removed]",
      "text/plain": [
       "<Figure size 432x288 with 1 Axes>"
      ]
     },
     "metadata": {
      "needs_background": "light"
     },
     "output_type": "display_data"
    }
   ],
   "source": [
    "plt.hist(movies2[\"budget\"])\n",
    "plt.title(\"The distribution of the budgets\")\n",
    "plt.show()\n",
    "plt.close()"
   ]
  },
  {
   "cell_type": "markdown",
   "id": "aeab9a83",
   "metadata": {},
   "source": [
    "### The vote_average(rating) column"
   ]
  },
  {
   "cell_type": "code",
   "execution_count": 35,
   "id": "39df2b4a",
   "metadata": {},
   "outputs": [
    {
     "data": {
      "text/plain": [
       "0        7.7\n",
       "1        6.9\n",
       "3        6.1\n",
       "5        7.7\n",
       "6        6.2\n",
       "        ... \n",
       "45402    3.5\n",
       "45408    5.0\n",
       "45409    5.8\n",
       "45412    4.0\n",
       "45422    1.0\n",
       "Name: vote_average, Length: 8893, dtype: float64"
      ]
     },
     "execution_count": 35,
     "metadata": {},
     "output_type": "execute_result"
    }
   ],
   "source": [
    "movies2[\"vote_average\"]"
   ]
  },
  {
   "cell_type": "code",
   "execution_count": 36,
   "id": "25b25f3f",
   "metadata": {},
   "outputs": [],
   "source": [
    "movies2.rename(columns={\"vote_average\": \"rating\"}, inplace=True)"
   ]
  },
  {
   "cell_type": "code",
   "execution_count": 37,
   "id": "c24d5f6f",
   "metadata": {},
   "outputs": [
    {
     "data": {
      "text/plain": [
       "3"
      ]
     },
     "execution_count": 37,
     "metadata": {},
     "output_type": "execute_result"
    }
   ],
   "source": [
    "movies2[\"rating\"].isnull().sum()"
   ]
  },
  {
   "cell_type": "code",
   "execution_count": 38,
   "id": "367fa590",
   "metadata": {},
   "outputs": [
    {
     "data": {
      "text/plain": [
       "count    8890.000000\n",
       "mean        6.013273\n",
       "std         1.247683\n",
       "min         0.000000\n",
       "25%         5.400000\n",
       "50%         6.200000\n",
       "75%         6.800000\n",
       "max        10.000000\n",
       "Name: rating, dtype: float64"
      ]
     },
     "execution_count": 38,
     "metadata": {},
     "output_type": "execute_result"
    }
   ],
   "source": [
    "movies2[\"rating\"].describe()"
   ]
  },
  {
   "cell_type": "code",
   "execution_count": 39,
   "id": "748e15f9",
   "metadata": {},
   "outputs": [],
   "source": [
    "movies2[\"rating\"].fillna(6.2, inplace=True)"
   ]
  },
  {
   "cell_type": "code",
   "execution_count": 40,
   "id": "d0cc5a47",
   "metadata": {},
   "outputs": [],
   "source": [
    "movies2[\"rating\"] = movies2.rating.apply(lambda row: row if row >= 1 else 1)"
   ]
  },
  {
   "cell_type": "code",
   "execution_count": 41,
   "id": "3f3ba9d7",
   "metadata": {},
   "outputs": [
    {
     "data": {
      "image/png": "[encoded data removed]",
      "text/plain": [
       "<Figure size 432x288 with 1 Axes>"
      ]
     },
     "metadata": {
      "needs_background": "light"
     },
     "output_type": "display_data"
    }
   ],
   "source": [
    "plt.hist(movies2[\"rating\"], bins=30)\n",
    "plt.title(\"The distribution of the ratings\")\n",
    "plt.show()\n",
    "plt.close()"
   ]
  },
  {
   "cell_type": "markdown",
   "id": "6b082e3e",
   "metadata": {},
   "source": [
    "### The new cleaned dataframe"
   ]
  },
  {
   "cell_type": "code",
   "execution_count": 42,
   "id": "58d57329",
   "metadata": {},
   "outputs": [
    {
     "data": {
      "text/html": [
       "<div>\n",
       "<style scoped>\n",
       "    .dataframe tbody tr th:only-of-type {\n",
       "        vertical-align: middle;\n",
       "    }\n",
       "\n",
       "    .dataframe tbody tr th {\n",
       "        vertical-align: top;\n",
       "    }\n",
       "\n",
       "    .dataframe thead th {\n",
       "        text-align: right;\n",
       "    }\n",
       "</style>\n",
       "<table border=\"1\" class=\"dataframe\">\n",
       "  <thead>\n",
       "    <tr style=\"text-align: right;\">\n",
       "      <th></th>\n",
       "      <th>rating</th>\n",
       "      <th>budget</th>\n",
       "    </tr>\n",
       "  </thead>\n",
       "  <tbody>\n",
       "    <tr>\n",
       "      <th>0</th>\n",
       "      <td>7.7</td>\n",
       "      <td>30000000</td>\n",
       "    </tr>\n",
       "    <tr>\n",
       "      <th>1</th>\n",
       "      <td>6.9</td>\n",
       "      <td>65000000</td>\n",
       "    </tr>\n",
       "    <tr>\n",
       "      <th>3</th>\n",
       "      <td>6.1</td>\n",
       "      <td>16000000</td>\n",
       "    </tr>\n",
       "    <tr>\n",
       "      <th>5</th>\n",
       "      <td>7.7</td>\n",
       "      <td>60000000</td>\n",
       "    </tr>\n",
       "    <tr>\n",
       "      <th>6</th>\n",
       "      <td>6.2</td>\n",
       "      <td>58000000</td>\n",
       "    </tr>\n",
       "    <tr>\n",
       "      <th>...</th>\n",
       "      <td>...</td>\n",
       "      <td>...</td>\n",
       "    </tr>\n",
       "    <tr>\n",
       "      <th>45402</th>\n",
       "      <td>3.5</td>\n",
       "      <td>2000000</td>\n",
       "    </tr>\n",
       "    <tr>\n",
       "      <th>45408</th>\n",
       "      <td>5.0</td>\n",
       "      <td>2000000</td>\n",
       "    </tr>\n",
       "    <tr>\n",
       "      <th>45409</th>\n",
       "      <td>5.8</td>\n",
       "      <td>800000</td>\n",
       "    </tr>\n",
       "    <tr>\n",
       "      <th>45412</th>\n",
       "      <td>4.0</td>\n",
       "      <td>2000000</td>\n",
       "    </tr>\n",
       "    <tr>\n",
       "      <th>45422</th>\n",
       "      <td>1.0</td>\n",
       "      <td>5000000</td>\n",
       "    </tr>\n",
       "  </tbody>\n",
       "</table>\n",
       "<p>8893 rows × 2 columns</p>\n",
       "</div>"
      ],
      "text/plain": [
       "       rating    budget\n",
       "0         7.7  30000000\n",
       "1         6.9  65000000\n",
       "3         6.1  16000000\n",
       "5         7.7  60000000\n",
       "6         6.2  58000000\n",
       "...       ...       ...\n",
       "45402     3.5   2000000\n",
       "45408     5.0   2000000\n",
       "45409     5.8    800000\n",
       "45412     4.0   2000000\n",
       "45422     1.0   5000000\n",
       "\n",
       "[8893 rows x 2 columns]"
      ]
     },
     "execution_count": 42,
     "metadata": {},
     "output_type": "execute_result"
    }
   ],
   "source": [
    "movies_cleaned2 = movies2[[\"rating\", \"budget\"]].copy()\n",
    "movies_cleaned2"
   ]
  },
  {
   "cell_type": "markdown",
   "id": "64b9ad12",
   "metadata": {},
   "source": [
    "### The genres column"
   ]
  },
  {
   "cell_type": "code",
   "execution_count": 43,
   "id": "02f328b4",
   "metadata": {},
   "outputs": [],
   "source": [
    "genres_df = movies2[\"genres\"].reset_index()\n",
    "import ast\n",
    "\n",
    "genres_list = []\n",
    "\n",
    "for i in range(len(genres_df[\"genres\"])):\n",
    "    try:\n",
    "        genres = ast.literal_eval(genres_df[\"genres\"][i])\n",
    "        genres_list.append(genres[0][\"name\"])\n",
    "    except:\n",
    "        genres_list.append(genres_list[-1])"
   ]
  },
  {
   "cell_type": "code",
   "execution_count": 44,
   "id": "3f9ec18a",
   "metadata": {},
   "outputs": [],
   "source": [
    "movies2[\"genres\"] = genres_list"
   ]
  },
  {
   "cell_type": "code",
   "execution_count": 45,
   "id": "bd9a6801",
   "metadata": {},
   "outputs": [
    {
     "data": {
      "text/plain": [
       "0        Animation\n",
       "1        Adventure\n",
       "3           Comedy\n",
       "5           Action\n",
       "6           Comedy\n",
       "           ...    \n",
       "45402       Comedy\n",
       "45408       Comedy\n",
       "45409       Comedy\n",
       "45412      Romance\n",
       "45422       Action\n",
       "Name: genres, Length: 8893, dtype: object"
      ]
     },
     "execution_count": 45,
     "metadata": {},
     "output_type": "execute_result"
    }
   ],
   "source": [
    "movies2[\"genres\"]"
   ]
  },
  {
   "cell_type": "code",
   "execution_count": 46,
   "id": "33501d8b",
   "metadata": {},
   "outputs": [
    {
     "data": {
      "text/plain": [
       "genres\n",
       "Odyssey Media              1\n",
       "Aniplex                    1\n",
       "Carousel Productions       1\n",
       "Foreign                    6\n",
       "TV Movie                  19\n",
       "History                   50\n",
       "Western                   50\n",
       "Music                     58\n",
       "War                       59\n",
       "Family                    87\n",
       "Mystery                  108\n",
       "Science Fiction          177\n",
       "Romance                  191\n",
       "Fantasy                  205\n",
       "Documentary              210\n",
       "Animation                233\n",
       "Thriller                 385\n",
       "Crime                    409\n",
       "Adventure                550\n",
       "Horror                   724\n",
       "Action                  1461\n",
       "Comedy                  1693\n",
       "Drama                   2215\n",
       "Name: id, dtype: int64"
      ]
     },
     "execution_count": 46,
     "metadata": {},
     "output_type": "execute_result"
    }
   ],
   "source": [
    "movies2.groupby('genres').id.count().sort_values()"
   ]
  },
  {
   "cell_type": "code",
   "execution_count": 47,
   "id": "5237b0cf",
   "metadata": {},
   "outputs": [],
   "source": [
    "movies2 = movies2[(movies2[\"genres\"] != \"Aniplex\") & (movies2[\"genres\"] != \"Odyssey Media\") & (movies2[\"genres\"] != \"Foreign\") &\n",
    "                (movies2[\"genres\"] != \"Carousel Productions\") & (movies2[\"genres\"] != \"TV Movie\")]"
   ]
  },
  {
   "cell_type": "code",
   "execution_count": 48,
   "id": "b835a2c1",
   "metadata": {},
   "outputs": [
    {
     "data": {
      "image/png": "[encoded data removed]",
      "text/plain": [
       "<Figure size 1152x720 with 1 Axes>"
      ]
     },
     "metadata": {
      "needs_background": "light"
     },
     "output_type": "display_data"
    }
   ],
   "source": [
    "movies2.groupby(\"genres\").rating.mean().plot(kind=\"bar\", figsize=(16, 10), label=\"The mean rating\", colormap=\"PuOr\", width=0.2,\n",
    "                                             title=\"The rating for each genre of the movie\", position=0.3)\n",
    "movies2.groupby(\"genres\").rating.max().plot(kind=\"bar\", figsize=(16, 10), label=\"The maximum rating\", colormap=\"summer\", width=0.2,\n",
    "                                             position=-0.7)\n",
    "movies2.groupby(\"genres\").rating.min().plot(kind=\"bar\", figsize=(16, 10), label=\"The minimum rating\", colormap=\"inferno\", width=0.2,\n",
    "                                             position=1.3)\n",
    "plt.legend()\n",
    "plt.xlim(-1, 18)\n",
    "plt.show()\n",
    "plt.close()"
   ]
  },
  {
   "cell_type": "code",
   "execution_count": 49,
   "id": "bb3ff992",
   "metadata": {},
   "outputs": [],
   "source": [
    "dummy_genres = pd.get_dummies(movies2[\"genres\"])"
   ]
  },
  {
   "cell_type": "code",
   "execution_count": 50,
   "id": "384115b6",
   "metadata": {},
   "outputs": [],
   "source": [
    "movies_cleaned2 = pd.concat([movies_cleaned2, dummy_genres], axis=1, join=\"inner\")\n",
    "movies_cleaned2.dropna(inplace=True)"
   ]
  },
  {
   "cell_type": "code",
   "execution_count": 51,
   "id": "355d30df",
   "metadata": {},
   "outputs": [
    {
     "data": {
      "text/html": [
       "<div>\n",
       "<style scoped>\n",
       "    .dataframe tbody tr th:only-of-type {\n",
       "        vertical-align: middle;\n",
       "    }\n",
       "\n",
       "    .dataframe tbody tr th {\n",
       "        vertical-align: top;\n",
       "    }\n",
       "\n",
       "    .dataframe thead th {\n",
       "        text-align: right;\n",
       "    }\n",
       "</style>\n",
       "<table border=\"1\" class=\"dataframe\">\n",
       "  <thead>\n",
       "    <tr style=\"text-align: right;\">\n",
       "      <th></th>\n",
       "      <th>rating</th>\n",
       "      <th>budget</th>\n",
       "      <th>Action</th>\n",
       "      <th>Adventure</th>\n",
       "      <th>Animation</th>\n",
       "      <th>Comedy</th>\n",
       "      <th>Crime</th>\n",
       "      <th>Documentary</th>\n",
       "      <th>Drama</th>\n",
       "      <th>Family</th>\n",
       "      <th>Fantasy</th>\n",
       "      <th>History</th>\n",
       "      <th>Horror</th>\n",
       "      <th>Music</th>\n",
       "      <th>Mystery</th>\n",
       "      <th>Romance</th>\n",
       "      <th>Science Fiction</th>\n",
       "      <th>Thriller</th>\n",
       "      <th>War</th>\n",
       "      <th>Western</th>\n",
       "    </tr>\n",
       "  </thead>\n",
       "  <tbody>\n",
       "    <tr>\n",
       "      <th>0</th>\n",
       "      <td>7.7</td>\n",
       "      <td>30000000</td>\n",
       "      <td>0</td>\n",
       "      <td>0</td>\n",
       "      <td>1</td>\n",
       "      <td>0</td>\n",
       "      <td>0</td>\n",
       "      <td>0</td>\n",
       "      <td>0</td>\n",
       "      <td>0</td>\n",
       "      <td>0</td>\n",
       "      <td>0</td>\n",
       "      <td>0</td>\n",
       "      <td>0</td>\n",
       "      <td>0</td>\n",
       "      <td>0</td>\n",
       "      <td>0</td>\n",
       "      <td>0</td>\n",
       "      <td>0</td>\n",
       "      <td>0</td>\n",
       "    </tr>\n",
       "    <tr>\n",
       "      <th>1</th>\n",
       "      <td>6.9</td>\n",
       "      <td>65000000</td>\n",
       "      <td>0</td>\n",
       "      <td>1</td>\n",
       "      <td>0</td>\n",
       "      <td>0</td>\n",
       "      <td>0</td>\n",
       "      <td>0</td>\n",
       "      <td>0</td>\n",
       "      <td>0</td>\n",
       "      <td>0</td>\n",
       "      <td>0</td>\n",
       "      <td>0</td>\n",
       "      <td>0</td>\n",
       "      <td>0</td>\n",
       "      <td>0</td>\n",
       "      <td>0</td>\n",
       "      <td>0</td>\n",
       "      <td>0</td>\n",
       "      <td>0</td>\n",
       "    </tr>\n",
       "    <tr>\n",
       "      <th>3</th>\n",
       "      <td>6.1</td>\n",
       "      <td>16000000</td>\n",
       "      <td>0</td>\n",
       "      <td>0</td>\n",
       "      <td>0</td>\n",
       "      <td>1</td>\n",
       "      <td>0</td>\n",
       "      <td>0</td>\n",
       "      <td>0</td>\n",
       "      <td>0</td>\n",
       "      <td>0</td>\n",
       "      <td>0</td>\n",
       "      <td>0</td>\n",
       "      <td>0</td>\n",
       "      <td>0</td>\n",
       "      <td>0</td>\n",
       "      <td>0</td>\n",
       "      <td>0</td>\n",
       "      <td>0</td>\n",
       "      <td>0</td>\n",
       "    </tr>\n",
       "    <tr>\n",
       "      <th>5</th>\n",
       "      <td>7.7</td>\n",
       "      <td>60000000</td>\n",
       "      <td>1</td>\n",
       "      <td>0</td>\n",
       "      <td>0</td>\n",
       "      <td>0</td>\n",
       "      <td>0</td>\n",
       "      <td>0</td>\n",
       "      <td>0</td>\n",
       "      <td>0</td>\n",
       "      <td>0</td>\n",
       "      <td>0</td>\n",
       "      <td>0</td>\n",
       "      <td>0</td>\n",
       "      <td>0</td>\n",
       "      <td>0</td>\n",
       "      <td>0</td>\n",
       "      <td>0</td>\n",
       "      <td>0</td>\n",
       "      <td>0</td>\n",
       "    </tr>\n",
       "    <tr>\n",
       "      <th>6</th>\n",
       "      <td>6.2</td>\n",
       "      <td>58000000</td>\n",
       "      <td>0</td>\n",
       "      <td>0</td>\n",
       "      <td>0</td>\n",
       "      <td>1</td>\n",
       "      <td>0</td>\n",
       "      <td>0</td>\n",
       "      <td>0</td>\n",
       "      <td>0</td>\n",
       "      <td>0</td>\n",
       "      <td>0</td>\n",
       "      <td>0</td>\n",
       "      <td>0</td>\n",
       "      <td>0</td>\n",
       "      <td>0</td>\n",
       "      <td>0</td>\n",
       "      <td>0</td>\n",
       "      <td>0</td>\n",
       "      <td>0</td>\n",
       "    </tr>\n",
       "    <tr>\n",
       "      <th>...</th>\n",
       "      <td>...</td>\n",
       "      <td>...</td>\n",
       "      <td>...</td>\n",
       "      <td>...</td>\n",
       "      <td>...</td>\n",
       "      <td>...</td>\n",
       "      <td>...</td>\n",
       "      <td>...</td>\n",
       "      <td>...</td>\n",
       "      <td>...</td>\n",
       "      <td>...</td>\n",
       "      <td>...</td>\n",
       "      <td>...</td>\n",
       "      <td>...</td>\n",
       "      <td>...</td>\n",
       "      <td>...</td>\n",
       "      <td>...</td>\n",
       "      <td>...</td>\n",
       "      <td>...</td>\n",
       "      <td>...</td>\n",
       "    </tr>\n",
       "    <tr>\n",
       "      <th>45402</th>\n",
       "      <td>3.5</td>\n",
       "      <td>2000000</td>\n",
       "      <td>0</td>\n",
       "      <td>0</td>\n",
       "      <td>0</td>\n",
       "      <td>1</td>\n",
       "      <td>0</td>\n",
       "      <td>0</td>\n",
       "      <td>0</td>\n",
       "      <td>0</td>\n",
       "      <td>0</td>\n",
       "      <td>0</td>\n",
       "      <td>0</td>\n",
       "      <td>0</td>\n",
       "      <td>0</td>\n",
       "      <td>0</td>\n",
       "      <td>0</td>\n",
       "      <td>0</td>\n",
       "      <td>0</td>\n",
       "      <td>0</td>\n",
       "    </tr>\n",
       "    <tr>\n",
       "      <th>45408</th>\n",
       "      <td>5.0</td>\n",
       "      <td>2000000</td>\n",
       "      <td>0</td>\n",
       "      <td>0</td>\n",
       "      <td>0</td>\n",
       "      <td>1</td>\n",
       "      <td>0</td>\n",
       "      <td>0</td>\n",
       "      <td>0</td>\n",
       "      <td>0</td>\n",
       "      <td>0</td>\n",
       "      <td>0</td>\n",
       "      <td>0</td>\n",
       "      <td>0</td>\n",
       "      <td>0</td>\n",
       "      <td>0</td>\n",
       "      <td>0</td>\n",
       "      <td>0</td>\n",
       "      <td>0</td>\n",
       "      <td>0</td>\n",
       "    </tr>\n",
       "    <tr>\n",
       "      <th>45409</th>\n",
       "      <td>5.8</td>\n",
       "      <td>800000</td>\n",
       "      <td>0</td>\n",
       "      <td>0</td>\n",
       "      <td>0</td>\n",
       "      <td>1</td>\n",
       "      <td>0</td>\n",
       "      <td>0</td>\n",
       "      <td>0</td>\n",
       "      <td>0</td>\n",
       "      <td>0</td>\n",
       "      <td>0</td>\n",
       "      <td>0</td>\n",
       "      <td>0</td>\n",
       "      <td>0</td>\n",
       "      <td>0</td>\n",
       "      <td>0</td>\n",
       "      <td>0</td>\n",
       "      <td>0</td>\n",
       "      <td>0</td>\n",
       "    </tr>\n",
       "    <tr>\n",
       "      <th>45412</th>\n",
       "      <td>4.0</td>\n",
       "      <td>2000000</td>\n",
       "      <td>0</td>\n",
       "      <td>0</td>\n",
       "      <td>0</td>\n",
       "      <td>0</td>\n",
       "      <td>0</td>\n",
       "      <td>0</td>\n",
       "      <td>0</td>\n",
       "      <td>0</td>\n",
       "      <td>0</td>\n",
       "      <td>0</td>\n",
       "      <td>0</td>\n",
       "      <td>0</td>\n",
       "      <td>0</td>\n",
       "      <td>1</td>\n",
       "      <td>0</td>\n",
       "      <td>0</td>\n",
       "      <td>0</td>\n",
       "      <td>0</td>\n",
       "    </tr>\n",
       "    <tr>\n",
       "      <th>45422</th>\n",
       "      <td>1.0</td>\n",
       "      <td>5000000</td>\n",
       "      <td>1</td>\n",
       "      <td>0</td>\n",
       "      <td>0</td>\n",
       "      <td>0</td>\n",
       "      <td>0</td>\n",
       "      <td>0</td>\n",
       "      <td>0</td>\n",
       "      <td>0</td>\n",
       "      <td>0</td>\n",
       "      <td>0</td>\n",
       "      <td>0</td>\n",
       "      <td>0</td>\n",
       "      <td>0</td>\n",
       "      <td>0</td>\n",
       "      <td>0</td>\n",
       "      <td>0</td>\n",
       "      <td>0</td>\n",
       "      <td>0</td>\n",
       "    </tr>\n",
       "  </tbody>\n",
       "</table>\n",
       "<p>8865 rows × 20 columns</p>\n",
       "</div>"
      ],
      "text/plain": [
       "       rating    budget  Action  Adventure  Animation  Comedy  Crime  \\\n",
       "0         7.7  30000000       0          0          1       0      0   \n",
       "1         6.9  65000000       0          1          0       0      0   \n",
       "3         6.1  16000000       0          0          0       1      0   \n",
       "5         7.7  60000000       1          0          0       0      0   \n",
       "6         6.2  58000000       0          0          0       1      0   \n",
       "...       ...       ...     ...        ...        ...     ...    ...   \n",
       "45402     3.5   2000000       0          0          0       1      0   \n",
       "45408     5.0   2000000       0          0          0       1      0   \n",
       "45409     5.8    800000       0          0          0       1      0   \n",
       "45412     4.0   2000000       0          0          0       0      0   \n",
       "45422     1.0   5000000       1          0          0       0      0   \n",
       "\n",
       "       Documentary  Drama  Family  Fantasy  History  Horror  Music  Mystery  \\\n",
       "0                0      0       0        0        0       0      0        0   \n",
       "1                0      0       0        0        0       0      0        0   \n",
       "3                0      0       0        0        0       0      0        0   \n",
       "5                0      0       0        0        0       0      0        0   \n",
       "6                0      0       0        0        0       0      0        0   \n",
       "...            ...    ...     ...      ...      ...     ...    ...      ...   \n",
       "45402            0      0       0        0        0       0      0        0   \n",
       "45408            0      0       0        0        0       0      0        0   \n",
       "45409            0      0       0        0        0       0      0        0   \n",
       "45412            0      0       0        0        0       0      0        0   \n",
       "45422            0      0       0        0        0       0      0        0   \n",
       "\n",
       "       Romance  Science Fiction  Thriller  War  Western  \n",
       "0            0                0         0    0        0  \n",
       "1            0                0         0    0        0  \n",
       "3            0                0         0    0        0  \n",
       "5            0                0         0    0        0  \n",
       "6            0                0         0    0        0  \n",
       "...        ...              ...       ...  ...      ...  \n",
       "45402        0                0         0    0        0  \n",
       "45408        0                0         0    0        0  \n",
       "45409        0                0         0    0        0  \n",
       "45412        1                0         0    0        0  \n",
       "45422        0                0         0    0        0  \n",
       "\n",
       "[8865 rows x 20 columns]"
      ]
     },
     "execution_count": 51,
     "metadata": {},
     "output_type": "execute_result"
    }
   ],
   "source": [
    "movies_cleaned2"
   ]
  },
  {
   "cell_type": "markdown",
   "id": "705ec655",
   "metadata": {},
   "source": [
    "### The original_language column"
   ]
  },
  {
   "cell_type": "code",
   "execution_count": 52,
   "id": "166a58fc",
   "metadata": {},
   "outputs": [
    {
     "data": {
      "text/plain": [
       "0"
      ]
     },
     "execution_count": 52,
     "metadata": {},
     "output_type": "execute_result"
    }
   ],
   "source": [
    "movies2['original_language'].isnull().sum()"
   ]
  },
  {
   "cell_type": "code",
   "execution_count": 53,
   "id": "f6a254b0",
   "metadata": {},
   "outputs": [
    {
     "data": {
      "text/plain": [
       "en    7411\n",
       "fr     240\n",
       "ru     139\n",
       "hi     131\n",
       "es     113\n",
       "de      96\n",
       "ja      84\n",
       "it      83\n",
       "ko      66\n",
       "zh      65\n",
       "fi      63\n",
       "da      36\n",
       "pt      34\n",
       "ta      33\n",
       "cn      33\n",
       "sv      28\n",
       "nl      27\n",
       "no      23\n",
       "pl      19\n",
       "ml      15\n",
       "sr      13\n",
       "th      11\n",
       "tr      10\n",
       "te      10\n",
       "he      10\n",
       "ro       9\n",
       "hu       7\n",
       "fa       4\n",
       "et       4\n",
       "id       4\n",
       "el       4\n",
       "mr       3\n",
       "sl       3\n",
       "cs       3\n",
       "is       3\n",
       "xx       2\n",
       "lv       2\n",
       "uk       2\n",
       "ar       2\n",
       "lo       2\n",
       "ur       2\n",
       "nb       2\n",
       "ca       2\n",
       "vi       2\n",
       "ku       1\n",
       "la       1\n",
       "bg       1\n",
       "kn       1\n",
       "bs       1\n",
       "bm       1\n",
       "af       1\n",
       "sq       1\n",
       "ps       1\n",
       "bo       1\n",
       "Name: original_language, dtype: int64"
      ]
     },
     "execution_count": 53,
     "metadata": {},
     "output_type": "execute_result"
    }
   ],
   "source": [
    "movies2[\"original_language\"].value_counts()"
   ]
  },
  {
   "cell_type": "code",
   "execution_count": 54,
   "id": "41d51990",
   "metadata": {},
   "outputs": [],
   "source": [
    "movies2 = movies2[(movies2[\"original_language\"] == \"en\") | (movies2[\"original_language\"] == \"fr\") | (movies2[\"original_language\"] == \"ru\") | \n",
    "         (movies2[\"original_language\"] == \"hi\") | (movies2[\"original_language\"] == \"es\") | (movies2[\"original_language\"] == \"de\") |\n",
    "         (movies2[\"original_language\"] == \"ja\") | (movies2[\"original_language\"] == \"it\") | (movies2[\"original_language\"] == \"it\")]"
   ]
  },
  {
   "cell_type": "code",
   "execution_count": 55,
   "id": "2ee02a84",
   "metadata": {},
   "outputs": [
    {
     "data": {
      "text/plain": [
       "en    7411\n",
       "fr     240\n",
       "ru     139\n",
       "hi     131\n",
       "es     113\n",
       "de      96\n",
       "ja      84\n",
       "it      83\n",
       "Name: original_language, dtype: int64"
      ]
     },
     "execution_count": 55,
     "metadata": {},
     "output_type": "execute_result"
    }
   ],
   "source": [
    "movies2[\"original_language\"].value_counts()"
   ]
  },
  {
   "cell_type": "code",
   "execution_count": 56,
   "id": "d4f9650e",
   "metadata": {},
   "outputs": [
    {
     "data": {
      "image/png": "[encoded data removed]",
      "text/plain": [
       "<Figure size 1152x720 with 1 Axes>"
      ]
     },
     "metadata": {
      "needs_background": "light"
     },
     "output_type": "display_data"
    }
   ],
   "source": [
    "movies2.groupby(\"original_language\").rating.mean().plot(kind=\"bar\", figsize=(16, 10), label=\"The mean rating\", colormap=\"PuOr\", width=0.2,\n",
    "                                             title=\"The rating for each language of the movie\", position=0.3)\n",
    "movies2.groupby(\"original_language\").rating.max().plot(kind=\"bar\", figsize=(16, 10), label=\"The maximum rating\", colormap=\"summer\", width=0.2,\n",
    "                                             position=-0.7)\n",
    "movies2.groupby(\"original_language\").rating.min().plot(kind=\"bar\", figsize=(16, 10), label=\"The minimum rating\", colormap=\"inferno\", width=0.2,\n",
    "                                             position=1.3)\n",
    "plt.legend()\n",
    "plt.xlim(-1, 8)\n",
    "plt.show()\n",
    "plt.close()"
   ]
  },
  {
   "cell_type": "code",
   "execution_count": 57,
   "id": "0642761f",
   "metadata": {},
   "outputs": [
    {
     "data": {
      "text/html": [
       "<div>\n",
       "<style scoped>\n",
       "    .dataframe tbody tr th:only-of-type {\n",
       "        vertical-align: middle;\n",
       "    }\n",
       "\n",
       "    .dataframe tbody tr th {\n",
       "        vertical-align: top;\n",
       "    }\n",
       "\n",
       "    .dataframe thead th {\n",
       "        text-align: right;\n",
       "    }\n",
       "</style>\n",
       "<table border=\"1\" class=\"dataframe\">\n",
       "  <thead>\n",
       "    <tr style=\"text-align: right;\">\n",
       "      <th></th>\n",
       "      <th>German</th>\n",
       "      <th>English</th>\n",
       "      <th>Spanish</th>\n",
       "      <th>French</th>\n",
       "      <th>Indian</th>\n",
       "      <th>Italian</th>\n",
       "      <th>Japanese</th>\n",
       "      <th>Russian</th>\n",
       "    </tr>\n",
       "  </thead>\n",
       "  <tbody>\n",
       "    <tr>\n",
       "      <th>0</th>\n",
       "      <td>0</td>\n",
       "      <td>1</td>\n",
       "      <td>0</td>\n",
       "      <td>0</td>\n",
       "      <td>0</td>\n",
       "      <td>0</td>\n",
       "      <td>0</td>\n",
       "      <td>0</td>\n",
       "    </tr>\n",
       "    <tr>\n",
       "      <th>1</th>\n",
       "      <td>0</td>\n",
       "      <td>1</td>\n",
       "      <td>0</td>\n",
       "      <td>0</td>\n",
       "      <td>0</td>\n",
       "      <td>0</td>\n",
       "      <td>0</td>\n",
       "      <td>0</td>\n",
       "    </tr>\n",
       "    <tr>\n",
       "      <th>3</th>\n",
       "      <td>0</td>\n",
       "      <td>1</td>\n",
       "      <td>0</td>\n",
       "      <td>0</td>\n",
       "      <td>0</td>\n",
       "      <td>0</td>\n",
       "      <td>0</td>\n",
       "      <td>0</td>\n",
       "    </tr>\n",
       "    <tr>\n",
       "      <th>5</th>\n",
       "      <td>0</td>\n",
       "      <td>1</td>\n",
       "      <td>0</td>\n",
       "      <td>0</td>\n",
       "      <td>0</td>\n",
       "      <td>0</td>\n",
       "      <td>0</td>\n",
       "      <td>0</td>\n",
       "    </tr>\n",
       "    <tr>\n",
       "      <th>6</th>\n",
       "      <td>0</td>\n",
       "      <td>1</td>\n",
       "      <td>0</td>\n",
       "      <td>0</td>\n",
       "      <td>0</td>\n",
       "      <td>0</td>\n",
       "      <td>0</td>\n",
       "      <td>0</td>\n",
       "    </tr>\n",
       "    <tr>\n",
       "      <th>...</th>\n",
       "      <td>...</td>\n",
       "      <td>...</td>\n",
       "      <td>...</td>\n",
       "      <td>...</td>\n",
       "      <td>...</td>\n",
       "      <td>...</td>\n",
       "      <td>...</td>\n",
       "      <td>...</td>\n",
       "    </tr>\n",
       "    <tr>\n",
       "      <th>45402</th>\n",
       "      <td>0</td>\n",
       "      <td>0</td>\n",
       "      <td>0</td>\n",
       "      <td>0</td>\n",
       "      <td>0</td>\n",
       "      <td>0</td>\n",
       "      <td>0</td>\n",
       "      <td>1</td>\n",
       "    </tr>\n",
       "    <tr>\n",
       "      <th>45408</th>\n",
       "      <td>0</td>\n",
       "      <td>0</td>\n",
       "      <td>0</td>\n",
       "      <td>0</td>\n",
       "      <td>0</td>\n",
       "      <td>0</td>\n",
       "      <td>0</td>\n",
       "      <td>1</td>\n",
       "    </tr>\n",
       "    <tr>\n",
       "      <th>45409</th>\n",
       "      <td>0</td>\n",
       "      <td>1</td>\n",
       "      <td>0</td>\n",
       "      <td>0</td>\n",
       "      <td>0</td>\n",
       "      <td>0</td>\n",
       "      <td>0</td>\n",
       "      <td>0</td>\n",
       "    </tr>\n",
       "    <tr>\n",
       "      <th>45412</th>\n",
       "      <td>0</td>\n",
       "      <td>1</td>\n",
       "      <td>0</td>\n",
       "      <td>0</td>\n",
       "      <td>0</td>\n",
       "      <td>0</td>\n",
       "      <td>0</td>\n",
       "      <td>0</td>\n",
       "    </tr>\n",
       "    <tr>\n",
       "      <th>45422</th>\n",
       "      <td>0</td>\n",
       "      <td>0</td>\n",
       "      <td>0</td>\n",
       "      <td>0</td>\n",
       "      <td>0</td>\n",
       "      <td>0</td>\n",
       "      <td>0</td>\n",
       "      <td>1</td>\n",
       "    </tr>\n",
       "  </tbody>\n",
       "</table>\n",
       "<p>8297 rows × 8 columns</p>\n",
       "</div>"
      ],
      "text/plain": [
       "       German  English  Spanish  French  Indian  Italian  Japanese  Russian\n",
       "0           0        1        0       0       0        0         0        0\n",
       "1           0        1        0       0       0        0         0        0\n",
       "3           0        1        0       0       0        0         0        0\n",
       "5           0        1        0       0       0        0         0        0\n",
       "6           0        1        0       0       0        0         0        0\n",
       "...       ...      ...      ...     ...     ...      ...       ...      ...\n",
       "45402       0        0        0       0       0        0         0        1\n",
       "45408       0        0        0       0       0        0         0        1\n",
       "45409       0        1        0       0       0        0         0        0\n",
       "45412       0        1        0       0       0        0         0        0\n",
       "45422       0        0        0       0       0        0         0        1\n",
       "\n",
       "[8297 rows x 8 columns]"
      ]
     },
     "execution_count": 57,
     "metadata": {},
     "output_type": "execute_result"
    }
   ],
   "source": [
    "dummy_languages = pd.get_dummies(movies2[\"original_language\"])\n",
    "dummy_languages.columns = [\"German\", \"English\", \"Spanish\", \"French\", \"Indian\", \"Italian\", \"Japanese\", \"Russian\"]\n",
    "dummy_languages"
   ]
  },
  {
   "cell_type": "code",
   "execution_count": 58,
   "id": "3e77e7e0",
   "metadata": {
    "scrolled": true
   },
   "outputs": [
    {
     "data": {
      "text/html": [
       "<div>\n",
       "<style scoped>\n",
       "    .dataframe tbody tr th:only-of-type {\n",
       "        vertical-align: middle;\n",
       "    }\n",
       "\n",
       "    .dataframe tbody tr th {\n",
       "        vertical-align: top;\n",
       "    }\n",
       "\n",
       "    .dataframe thead th {\n",
       "        text-align: right;\n",
       "    }\n",
       "</style>\n",
       "<table border=\"1\" class=\"dataframe\">\n",
       "  <thead>\n",
       "    <tr style=\"text-align: right;\">\n",
       "      <th></th>\n",
       "      <th>rating</th>\n",
       "      <th>budget</th>\n",
       "      <th>Action</th>\n",
       "      <th>Adventure</th>\n",
       "      <th>Animation</th>\n",
       "      <th>Comedy</th>\n",
       "      <th>Crime</th>\n",
       "      <th>Documentary</th>\n",
       "      <th>Drama</th>\n",
       "      <th>Family</th>\n",
       "      <th>...</th>\n",
       "      <th>War</th>\n",
       "      <th>Western</th>\n",
       "      <th>German</th>\n",
       "      <th>English</th>\n",
       "      <th>Spanish</th>\n",
       "      <th>French</th>\n",
       "      <th>Indian</th>\n",
       "      <th>Italian</th>\n",
       "      <th>Japanese</th>\n",
       "      <th>Russian</th>\n",
       "    </tr>\n",
       "  </thead>\n",
       "  <tbody>\n",
       "    <tr>\n",
       "      <th>0</th>\n",
       "      <td>7.7</td>\n",
       "      <td>30000000</td>\n",
       "      <td>0</td>\n",
       "      <td>0</td>\n",
       "      <td>1</td>\n",
       "      <td>0</td>\n",
       "      <td>0</td>\n",
       "      <td>0</td>\n",
       "      <td>0</td>\n",
       "      <td>0</td>\n",
       "      <td>...</td>\n",
       "      <td>0</td>\n",
       "      <td>0</td>\n",
       "      <td>0</td>\n",
       "      <td>1</td>\n",
       "      <td>0</td>\n",
       "      <td>0</td>\n",
       "      <td>0</td>\n",
       "      <td>0</td>\n",
       "      <td>0</td>\n",
       "      <td>0</td>\n",
       "    </tr>\n",
       "    <tr>\n",
       "      <th>1</th>\n",
       "      <td>6.9</td>\n",
       "      <td>65000000</td>\n",
       "      <td>0</td>\n",
       "      <td>1</td>\n",
       "      <td>0</td>\n",
       "      <td>0</td>\n",
       "      <td>0</td>\n",
       "      <td>0</td>\n",
       "      <td>0</td>\n",
       "      <td>0</td>\n",
       "      <td>...</td>\n",
       "      <td>0</td>\n",
       "      <td>0</td>\n",
       "      <td>0</td>\n",
       "      <td>1</td>\n",
       "      <td>0</td>\n",
       "      <td>0</td>\n",
       "      <td>0</td>\n",
       "      <td>0</td>\n",
       "      <td>0</td>\n",
       "      <td>0</td>\n",
       "    </tr>\n",
       "    <tr>\n",
       "      <th>3</th>\n",
       "      <td>6.1</td>\n",
       "      <td>16000000</td>\n",
       "      <td>0</td>\n",
       "      <td>0</td>\n",
       "      <td>0</td>\n",
       "      <td>1</td>\n",
       "      <td>0</td>\n",
       "      <td>0</td>\n",
       "      <td>0</td>\n",
       "      <td>0</td>\n",
       "      <td>...</td>\n",
       "      <td>0</td>\n",
       "      <td>0</td>\n",
       "      <td>0</td>\n",
       "      <td>1</td>\n",
       "      <td>0</td>\n",
       "      <td>0</td>\n",
       "      <td>0</td>\n",
       "      <td>0</td>\n",
       "      <td>0</td>\n",
       "      <td>0</td>\n",
       "    </tr>\n",
       "    <tr>\n",
       "      <th>5</th>\n",
       "      <td>7.7</td>\n",
       "      <td>60000000</td>\n",
       "      <td>1</td>\n",
       "      <td>0</td>\n",
       "      <td>0</td>\n",
       "      <td>0</td>\n",
       "      <td>0</td>\n",
       "      <td>0</td>\n",
       "      <td>0</td>\n",
       "      <td>0</td>\n",
       "      <td>...</td>\n",
       "      <td>0</td>\n",
       "      <td>0</td>\n",
       "      <td>0</td>\n",
       "      <td>1</td>\n",
       "      <td>0</td>\n",
       "      <td>0</td>\n",
       "      <td>0</td>\n",
       "      <td>0</td>\n",
       "      <td>0</td>\n",
       "      <td>0</td>\n",
       "    </tr>\n",
       "    <tr>\n",
       "      <th>6</th>\n",
       "      <td>6.2</td>\n",
       "      <td>58000000</td>\n",
       "      <td>0</td>\n",
       "      <td>0</td>\n",
       "      <td>0</td>\n",
       "      <td>1</td>\n",
       "      <td>0</td>\n",
       "      <td>0</td>\n",
       "      <td>0</td>\n",
       "      <td>0</td>\n",
       "      <td>...</td>\n",
       "      <td>0</td>\n",
       "      <td>0</td>\n",
       "      <td>0</td>\n",
       "      <td>1</td>\n",
       "      <td>0</td>\n",
       "      <td>0</td>\n",
       "      <td>0</td>\n",
       "      <td>0</td>\n",
       "      <td>0</td>\n",
       "      <td>0</td>\n",
       "    </tr>\n",
       "    <tr>\n",
       "      <th>...</th>\n",
       "      <td>...</td>\n",
       "      <td>...</td>\n",
       "      <td>...</td>\n",
       "      <td>...</td>\n",
       "      <td>...</td>\n",
       "      <td>...</td>\n",
       "      <td>...</td>\n",
       "      <td>...</td>\n",
       "      <td>...</td>\n",
       "      <td>...</td>\n",
       "      <td>...</td>\n",
       "      <td>...</td>\n",
       "      <td>...</td>\n",
       "      <td>...</td>\n",
       "      <td>...</td>\n",
       "      <td>...</td>\n",
       "      <td>...</td>\n",
       "      <td>...</td>\n",
       "      <td>...</td>\n",
       "      <td>...</td>\n",
       "      <td>...</td>\n",
       "    </tr>\n",
       "    <tr>\n",
       "      <th>45402</th>\n",
       "      <td>3.5</td>\n",
       "      <td>2000000</td>\n",
       "      <td>0</td>\n",
       "      <td>0</td>\n",
       "      <td>0</td>\n",
       "      <td>1</td>\n",
       "      <td>0</td>\n",
       "      <td>0</td>\n",
       "      <td>0</td>\n",
       "      <td>0</td>\n",
       "      <td>...</td>\n",
       "      <td>0</td>\n",
       "      <td>0</td>\n",
       "      <td>0</td>\n",
       "      <td>0</td>\n",
       "      <td>0</td>\n",
       "      <td>0</td>\n",
       "      <td>0</td>\n",
       "      <td>0</td>\n",
       "      <td>0</td>\n",
       "      <td>1</td>\n",
       "    </tr>\n",
       "    <tr>\n",
       "      <th>45408</th>\n",
       "      <td>5.0</td>\n",
       "      <td>2000000</td>\n",
       "      <td>0</td>\n",
       "      <td>0</td>\n",
       "      <td>0</td>\n",
       "      <td>1</td>\n",
       "      <td>0</td>\n",
       "      <td>0</td>\n",
       "      <td>0</td>\n",
       "      <td>0</td>\n",
       "      <td>...</td>\n",
       "      <td>0</td>\n",
       "      <td>0</td>\n",
       "      <td>0</td>\n",
       "      <td>0</td>\n",
       "      <td>0</td>\n",
       "      <td>0</td>\n",
       "      <td>0</td>\n",
       "      <td>0</td>\n",
       "      <td>0</td>\n",
       "      <td>1</td>\n",
       "    </tr>\n",
       "    <tr>\n",
       "      <th>45409</th>\n",
       "      <td>5.8</td>\n",
       "      <td>800000</td>\n",
       "      <td>0</td>\n",
       "      <td>0</td>\n",
       "      <td>0</td>\n",
       "      <td>1</td>\n",
       "      <td>0</td>\n",
       "      <td>0</td>\n",
       "      <td>0</td>\n",
       "      <td>0</td>\n",
       "      <td>...</td>\n",
       "      <td>0</td>\n",
       "      <td>0</td>\n",
       "      <td>0</td>\n",
       "      <td>1</td>\n",
       "      <td>0</td>\n",
       "      <td>0</td>\n",
       "      <td>0</td>\n",
       "      <td>0</td>\n",
       "      <td>0</td>\n",
       "      <td>0</td>\n",
       "    </tr>\n",
       "    <tr>\n",
       "      <th>45412</th>\n",
       "      <td>4.0</td>\n",
       "      <td>2000000</td>\n",
       "      <td>0</td>\n",
       "      <td>0</td>\n",
       "      <td>0</td>\n",
       "      <td>0</td>\n",
       "      <td>0</td>\n",
       "      <td>0</td>\n",
       "      <td>0</td>\n",
       "      <td>0</td>\n",
       "      <td>...</td>\n",
       "      <td>0</td>\n",
       "      <td>0</td>\n",
       "      <td>0</td>\n",
       "      <td>1</td>\n",
       "      <td>0</td>\n",
       "      <td>0</td>\n",
       "      <td>0</td>\n",
       "      <td>0</td>\n",
       "      <td>0</td>\n",
       "      <td>0</td>\n",
       "    </tr>\n",
       "    <tr>\n",
       "      <th>45422</th>\n",
       "      <td>1.0</td>\n",
       "      <td>5000000</td>\n",
       "      <td>1</td>\n",
       "      <td>0</td>\n",
       "      <td>0</td>\n",
       "      <td>0</td>\n",
       "      <td>0</td>\n",
       "      <td>0</td>\n",
       "      <td>0</td>\n",
       "      <td>0</td>\n",
       "      <td>...</td>\n",
       "      <td>0</td>\n",
       "      <td>0</td>\n",
       "      <td>0</td>\n",
       "      <td>0</td>\n",
       "      <td>0</td>\n",
       "      <td>0</td>\n",
       "      <td>0</td>\n",
       "      <td>0</td>\n",
       "      <td>0</td>\n",
       "      <td>1</td>\n",
       "    </tr>\n",
       "  </tbody>\n",
       "</table>\n",
       "<p>8297 rows × 28 columns</p>\n",
       "</div>"
      ],
      "text/plain": [
       "       rating    budget  Action  Adventure  Animation  Comedy  Crime  \\\n",
       "0         7.7  30000000       0          0          1       0      0   \n",
       "1         6.9  65000000       0          1          0       0      0   \n",
       "3         6.1  16000000       0          0          0       1      0   \n",
       "5         7.7  60000000       1          0          0       0      0   \n",
       "6         6.2  58000000       0          0          0       1      0   \n",
       "...       ...       ...     ...        ...        ...     ...    ...   \n",
       "45402     3.5   2000000       0          0          0       1      0   \n",
       "45408     5.0   2000000       0          0          0       1      0   \n",
       "45409     5.8    800000       0          0          0       1      0   \n",
       "45412     4.0   2000000       0          0          0       0      0   \n",
       "45422     1.0   5000000       1          0          0       0      0   \n",
       "\n",
       "       Documentary  Drama  Family  ...  War  Western  German  English  \\\n",
       "0                0      0       0  ...    0        0       0        1   \n",
       "1                0      0       0  ...    0        0       0        1   \n",
       "3                0      0       0  ...    0        0       0        1   \n",
       "5                0      0       0  ...    0        0       0        1   \n",
       "6                0      0       0  ...    0        0       0        1   \n",
       "...            ...    ...     ...  ...  ...      ...     ...      ...   \n",
       "45402            0      0       0  ...    0        0       0        0   \n",
       "45408            0      0       0  ...    0        0       0        0   \n",
       "45409            0      0       0  ...    0        0       0        1   \n",
       "45412            0      0       0  ...    0        0       0        1   \n",
       "45422            0      0       0  ...    0        0       0        0   \n",
       "\n",
       "       Spanish  French  Indian  Italian  Japanese  Russian  \n",
       "0            0       0       0        0         0        0  \n",
       "1            0       0       0        0         0        0  \n",
       "3            0       0       0        0         0        0  \n",
       "5            0       0       0        0         0        0  \n",
       "6            0       0       0        0         0        0  \n",
       "...        ...     ...     ...      ...       ...      ...  \n",
       "45402        0       0       0        0         0        1  \n",
       "45408        0       0       0        0         0        1  \n",
       "45409        0       0       0        0         0        0  \n",
       "45412        0       0       0        0         0        0  \n",
       "45422        0       0       0        0         0        1  \n",
       "\n",
       "[8297 rows x 28 columns]"
      ]
     },
     "execution_count": 58,
     "metadata": {},
     "output_type": "execute_result"
    }
   ],
   "source": [
    "movies_cleaned2 = pd.concat([movies_cleaned2, dummy_languages], axis=1, join=\"inner\")\n",
    "movies_cleaned2.dropna(inplace=True)\n",
    "movies_cleaned2"
   ]
  },
  {
   "cell_type": "markdown",
   "id": "fd487995",
   "metadata": {},
   "source": [
    "### The release_date(year) column"
   ]
  },
  {
   "cell_type": "code",
   "execution_count": 59,
   "id": "bae5e60b",
   "metadata": {},
   "outputs": [
    {
     "data": {
      "text/plain": [
       "4"
      ]
     },
     "execution_count": 59,
     "metadata": {},
     "output_type": "execute_result"
    }
   ],
   "source": [
    "movies2[\"release_date\"].isnull().sum()"
   ]
  },
  {
   "cell_type": "code",
   "execution_count": 60,
   "id": "d1c7553a",
   "metadata": {},
   "outputs": [
    {
     "data": {
      "text/plain": [
       "2007-01-01    16\n",
       "2005-01-01    16\n",
       "2008-01-01    13\n",
       "2006-01-01    12\n",
       "2011-09-09     9\n",
       "              ..\n",
       "1935-08-30     1\n",
       "1984-03-11     1\n",
       "1987-06-25     1\n",
       "1979-12-13     1\n",
       "2006-11-23     1\n",
       "Name: release_date, Length: 5357, dtype: int64"
      ]
     },
     "execution_count": 60,
     "metadata": {},
     "output_type": "execute_result"
    }
   ],
   "source": [
    "movies2[\"release_date\"].value_counts()"
   ]
  },
  {
   "cell_type": "code",
   "execution_count": 61,
   "id": "bffc47e8",
   "metadata": {},
   "outputs": [],
   "source": [
    "try:\n",
    "    movies2[\"release_date\"].fillna(\"2007-01-01\", inplace=True)\n",
    "except:\n",
    "    pass"
   ]
  },
  {
   "cell_type": "code",
   "execution_count": 62,
   "id": "8958b8b1",
   "metadata": {},
   "outputs": [],
   "source": [
    "release_date_df = movies2[\"release_date\"].reset_index()"
   ]
  },
  {
   "cell_type": "code",
   "execution_count": 63,
   "id": "c6daadc0",
   "metadata": {},
   "outputs": [],
   "source": [
    "year = []\n",
    "for i in range(len(release_date_df)):\n",
    "    year.append(int(release_date_df[\"release_date\"][i].split(\"-\")[0]))"
   ]
  },
  {
   "cell_type": "code",
   "execution_count": 64,
   "id": "da187001",
   "metadata": {},
   "outputs": [],
   "source": [
    "movies2[\"year\"] = year"
   ]
  },
  {
   "cell_type": "code",
   "execution_count": 65,
   "id": "56fffc45",
   "metadata": {},
   "outputs": [
    {
     "data": {
      "image/png": "[encoded data removed]",
      "text/plain": [
       "<Figure size 1152x720 with 1 Axes>"
      ]
     },
     "metadata": {
      "needs_background": "light"
     },
     "output_type": "display_data"
    }
   ],
   "source": [
    "movies2.groupby(\"year\").rating.mean().plot(kind=\"line\", figsize=(16, 10), label=\"The mean rating\", colormap=\"PuOr\",\n",
    "                                             title=\"The rating for each released year of the movies\")\n",
    "movies2.groupby(\"year\").rating.max().plot(kind=\"line\", figsize=(16, 10), label=\"The maximum rating\", colormap=\"summer\")\n",
    "movies2.groupby(\"year\").rating.min().plot(kind=\"line\", figsize=(16, 10), label=\"The minimum rating\", colormap=\"inferno\")\n",
    "plt.legend()\n",
    "plt.show()\n",
    "plt.close()"
   ]
  },
  {
   "cell_type": "code",
   "execution_count": 66,
   "id": "815a8770",
   "metadata": {},
   "outputs": [],
   "source": [
    "movies_cleaned2[\"year\"] = movies2[\"year\"]"
   ]
  },
  {
   "cell_type": "markdown",
   "id": "f636ee7f",
   "metadata": {},
   "source": [
    "### The runtime(is_longer) column"
   ]
  },
  {
   "cell_type": "code",
   "execution_count": 67,
   "id": "9138a357",
   "metadata": {},
   "outputs": [
    {
     "data": {
      "text/plain": [
       "3"
      ]
     },
     "execution_count": 67,
     "metadata": {},
     "output_type": "execute_result"
    }
   ],
   "source": [
    "movies2[\"runtime\"].isnull().sum()"
   ]
  },
  {
   "cell_type": "code",
   "execution_count": 68,
   "id": "98a99356",
   "metadata": {},
   "outputs": [
    {
     "data": {
      "text/plain": [
       "count    8294.000000\n",
       "mean      104.988305\n",
       "std        27.741755\n",
       "min         0.000000\n",
       "25%        91.000000\n",
       "50%       101.000000\n",
       "75%       115.000000\n",
       "max       705.000000\n",
       "Name: runtime, dtype: float64"
      ]
     },
     "execution_count": 68,
     "metadata": {},
     "output_type": "execute_result"
    }
   ],
   "source": [
    "movies2[\"runtime\"].describe()"
   ]
  },
  {
   "cell_type": "code",
   "execution_count": 69,
   "id": "1c2c4dc3",
   "metadata": {},
   "outputs": [
    {
     "data": {
      "text/plain": [
       "0"
      ]
     },
     "execution_count": 69,
     "metadata": {},
     "output_type": "execute_result"
    }
   ],
   "source": [
    "movies2[\"runtime\"].fillna(101, inplace=True)\n",
    "movies2[\"runtime\"] = movies2.runtime.apply(lambda row: row if row > 0 else 101)\n",
    "movies2[\"runtime\"].isnull().sum()"
   ]
  },
  {
   "cell_type": "code",
   "execution_count": 70,
   "id": "63bf0e05",
   "metadata": {},
   "outputs": [
    {
     "data": {
      "image/png": "[encoded data removed]",
      "text/plain": [
       "<Figure size 432x288 with 1 Axes>"
      ]
     },
     "metadata": {
      "needs_background": "light"
     },
     "output_type": "display_data"
    }
   ],
   "source": [
    "plt.hist(movies2[\"runtime\"], bins=10)\n",
    "plt.title(\"The distribution of the runtimes\")\n",
    "plt.show()\n",
    "plt.close()"
   ]
  },
  {
   "cell_type": "code",
   "execution_count": 71,
   "id": "c33ce956",
   "metadata": {},
   "outputs": [
    {
     "data": {
      "image/png": "[encoded data removed]",
      "text/plain": [
       "<Figure size 432x288 with 1 Axes>"
      ]
     },
     "metadata": {
      "needs_background": "light"
     },
     "output_type": "display_data"
    }
   ],
   "source": [
    "plt.boxplot(movies2[\"runtime\"])\n",
    "plt.title(\"Outliers in the runtimes distribution\")\n",
    "plt.show()\n",
    "plt.close()"
   ]
  },
  {
   "cell_type": "code",
   "execution_count": 72,
   "id": "9daeb1ca",
   "metadata": {},
   "outputs": [
    {
     "data": {
      "text/plain": [
       "(23, 184)"
      ]
     },
     "execution_count": 72,
     "metadata": {},
     "output_type": "execute_result"
    }
   ],
   "source": [
    "q1 = np.percentile(movies2[\"runtime\"], 25)\n",
    "q3 = np.percentile(movies2[\"runtime\"], 75)\n",
    "iqr = q3 - q1\n",
    "q_min, q_max = int(q1 - 3*iqr), int(q3 + 3*iqr)\n",
    "q_min, q_max"
   ]
  },
  {
   "cell_type": "code",
   "execution_count": 73,
   "id": "eea222cc",
   "metadata": {},
   "outputs": [],
   "source": [
    "movies2[\"runtime\"] = movies2[\"runtime\"].clip(q_min, q_max)"
   ]
  },
  {
   "cell_type": "code",
   "execution_count": 74,
   "id": "7cf187fa",
   "metadata": {},
   "outputs": [
    {
     "data": {
      "image/png": "[encoded data removed]",
      "text/plain": [
       "<Figure size 432x288 with 1 Axes>"
      ]
     },
     "metadata": {
      "needs_background": "light"
     },
     "output_type": "display_data"
    }
   ],
   "source": [
    "plt.hist(movies2[\"runtime\"], bins=30)\n",
    "plt.title(\"The distribution of the runtimes\")\n",
    "plt.show()\n",
    "plt.close()"
   ]
  },
  {
   "cell_type": "code",
   "execution_count": 75,
   "id": "807926e3",
   "metadata": {},
   "outputs": [],
   "source": [
    "movies2[\"is_longer\"] = movies2.runtime.apply(lambda row: 0 if row < 120 else 1)"
   ]
  },
  {
   "cell_type": "code",
   "execution_count": 76,
   "id": "c71c2159",
   "metadata": {},
   "outputs": [
    {
     "data": {
      "image/png": "[encoded data removed]",
      "text/plain": [
       "<Figure size 1152x720 with 1 Axes>"
      ]
     },
     "metadata": {
      "needs_background": "light"
     },
     "output_type": "display_data"
    }
   ],
   "source": [
    "movies2.groupby(\"is_longer\").rating.mean().plot(kind=\"bar\", figsize=(16, 10), label=\"The mean rating\", colormap=\"PuOr\", width=0.2,\n",
    "                                             title=\"The rating according to the runtime of the movie(0-short/1-long)\", position=0.3)\n",
    "movies2.groupby(\"is_longer\").rating.max().plot(kind=\"bar\", figsize=(16, 10), label=\"The maximum rating\", colormap=\"summer\", width=0.2,\n",
    "                                             position=-0.7)\n",
    "movies2.groupby(\"is_longer\").rating.min().plot(kind=\"bar\", figsize=(16, 10), label=\"The minimum rating\", colormap=\"inferno\", width=0.2,\n",
    "                                             position=1.3)\n",
    "plt.legend()\n",
    "plt.xlim(-1, 2)\n",
    "plt.show()\n",
    "plt.close()"
   ]
  },
  {
   "cell_type": "code",
   "execution_count": 77,
   "id": "8e00c620",
   "metadata": {},
   "outputs": [],
   "source": [
    "movies_cleaned2[\"runtime\"] = movies2[\"runtime\"]"
   ]
  },
  {
   "cell_type": "markdown",
   "id": "1dca2de2",
   "metadata": {},
   "source": [
    "### The final dataframe"
   ]
  },
  {
   "cell_type": "code",
   "execution_count": 78,
   "id": "5b8638c8",
   "metadata": {},
   "outputs": [],
   "source": [
    "movies_cleaned2.dropna(inplace=True)"
   ]
  },
  {
   "cell_type": "code",
   "execution_count": 79,
   "id": "22ebb727",
   "metadata": {},
   "outputs": [],
   "source": [
    "rating_1_2 = movies_cleaned2[(movies_cleaned2[\"rating\"] >= 1) & (movies_cleaned2[\"rating\"] <= 2)]\n",
    "rating_2_3 = movies_cleaned2[(movies_cleaned2[\"rating\"] >= 2.1) & (movies_cleaned2[\"rating\"] <= 3)]\n",
    "rating_3_4 = movies_cleaned2[(movies_cleaned2[\"rating\"] >= 3.1) & (movies_cleaned2[\"rating\"] <= 4)]\n",
    "rating_4_5 = movies_cleaned2[(movies_cleaned2[\"rating\"] >= 4.1) & (movies_cleaned2[\"rating\"] <= 5)]\n",
    "rating_5_6 = movies_cleaned2[(movies_cleaned2[\"rating\"] >= 5.1) & (movies_cleaned2[\"rating\"] <= 6)]\n",
    "rating_6_7 = movies_cleaned2[(movies_cleaned2[\"rating\"] >= 6.1) & (movies_cleaned2[\"rating\"] <= 7)]\n",
    "rating_7_8 = movies_cleaned2[(movies_cleaned2[\"rating\"] >= 7.1) & (movies_cleaned2[\"rating\"] <= 8)]\n",
    "rating_8_9 = movies_cleaned2[(movies_cleaned2[\"rating\"] >= 8.1) & (movies_cleaned2[\"rating\"] <= 9)]\n",
    "rating_1_2 = rating_1_2.iloc[:75, :]\n",
    "rating_3_4 = rating_3_4.iloc[:75, :]\n",
    "rating_4_5 = rating_4_5.iloc[:75, :]\n",
    "rating_5_6 = rating_5_6.iloc[:75, :]\n",
    "rating_6_7 = rating_6_7.iloc[:75, :]\n",
    "rating_7_8 = rating_7_8.iloc[:75, :]\n",
    "rating_8_9 = rating_8_9.iloc[:75, :]"
   ]
  },
  {
   "cell_type": "code",
   "execution_count": 80,
   "id": "8d1539f9",
   "metadata": {},
   "outputs": [],
   "source": [
    "frames = [rating_1_2, rating_2_3, rating_3_4, rating_4_5, rating_5_6, rating_6_7, rating_7_8, rating_8_9]\n",
    "movies_cleaned2 = pd.concat(frames)"
   ]
  },
  {
   "cell_type": "code",
   "execution_count": 81,
   "id": "70fa4233",
   "metadata": {},
   "outputs": [
    {
     "name": "stdout",
     "output_type": "stream",
     "text": [
      "<class 'pandas.core.frame.DataFrame'>\n",
      "Int64Index: 600 entries, 1370 to 36180\n",
      "Data columns (total 30 columns):\n",
      " #   Column           Non-Null Count  Dtype  \n",
      "---  ------           --------------  -----  \n",
      " 0   rating           600 non-null    float64\n",
      " 1   budget           600 non-null    int64  \n",
      " 2   Action           600 non-null    uint8  \n",
      " 3   Adventure        600 non-null    uint8  \n",
      " 4   Animation        600 non-null    uint8  \n",
      " 5   Comedy           600 non-null    uint8  \n",
      " 6   Crime            600 non-null    uint8  \n",
      " 7   Documentary      600 non-null    uint8  \n",
      " 8   Drama            600 non-null    uint8  \n",
      " 9   Family           600 non-null    uint8  \n",
      " 10  Fantasy          600 non-null    uint8  \n",
      " 11  History          600 non-null    uint8  \n",
      " 12  Horror           600 non-null    uint8  \n",
      " 13  Music            600 non-null    uint8  \n",
      " 14  Mystery          600 non-null    uint8  \n",
      " 15  Romance          600 non-null    uint8  \n",
      " 16  Science Fiction  600 non-null    uint8  \n",
      " 17  Thriller         600 non-null    uint8  \n",
      " 18  War              600 non-null    uint8  \n",
      " 19  Western          600 non-null    uint8  \n",
      " 20  German           600 non-null    uint8  \n",
      " 21  English          600 non-null    uint8  \n",
      " 22  Spanish          600 non-null    uint8  \n",
      " 23  French           600 non-null    uint8  \n",
      " 24  Indian           600 non-null    uint8  \n",
      " 25  Italian          600 non-null    uint8  \n",
      " 26  Japanese         600 non-null    uint8  \n",
      " 27  Russian          600 non-null    uint8  \n",
      " 28  year             600 non-null    int64  \n",
      " 29  runtime          600 non-null    float64\n",
      "dtypes: float64(2), int64(2), uint8(26)\n",
      "memory usage: 38.7 KB\n"
     ]
    }
   ],
   "source": [
    "movies_cleaned2.info()"
   ]
  },
  {
   "cell_type": "markdown",
   "id": "e8e26dc1",
   "metadata": {},
   "source": [
    "### Creating a copy of the dataframe(which will contain the budget, year and the runtime columns), for using it at normalization the values when we test our final model"
   ]
  },
  {
   "cell_type": "code",
   "execution_count": 82,
   "id": "3557df3c",
   "metadata": {},
   "outputs": [],
   "source": [
    "movies_cleaned2_copy = movies_cleaned2[[\"budget\", \"year\", \"runtime\"]]\n",
    "movies_cleaned2_copy = movies_cleaned2_copy.reset_index()\n",
    "movies_cleaned2_copy.drop('index', axis=1, inplace=True)"
   ]
  },
  {
   "cell_type": "markdown",
   "id": "b91d0d2a",
   "metadata": {},
   "source": [
    "### The normalization of the budget, year and runtime columns"
   ]
  },
  {
   "cell_type": "code",
   "execution_count": 83,
   "id": "1dec3418",
   "metadata": {},
   "outputs": [
    {
     "data": {
      "text/html": [
       "<div>\n",
       "<style scoped>\n",
       "    .dataframe tbody tr th:only-of-type {\n",
       "        vertical-align: middle;\n",
       "    }\n",
       "\n",
       "    .dataframe tbody tr th {\n",
       "        vertical-align: top;\n",
       "    }\n",
       "\n",
       "    .dataframe thead th {\n",
       "        text-align: right;\n",
       "    }\n",
       "</style>\n",
       "<table border=\"1\" class=\"dataframe\">\n",
       "  <thead>\n",
       "    <tr style=\"text-align: right;\">\n",
       "      <th></th>\n",
       "      <th>rating</th>\n",
       "      <th>budget</th>\n",
       "      <th>Action</th>\n",
       "      <th>Adventure</th>\n",
       "      <th>Animation</th>\n",
       "      <th>Comedy</th>\n",
       "      <th>Crime</th>\n",
       "      <th>Documentary</th>\n",
       "      <th>Drama</th>\n",
       "      <th>Family</th>\n",
       "      <th>...</th>\n",
       "      <th>German</th>\n",
       "      <th>English</th>\n",
       "      <th>Spanish</th>\n",
       "      <th>French</th>\n",
       "      <th>Indian</th>\n",
       "      <th>Italian</th>\n",
       "      <th>Japanese</th>\n",
       "      <th>Russian</th>\n",
       "      <th>year</th>\n",
       "      <th>runtime</th>\n",
       "    </tr>\n",
       "  </thead>\n",
       "  <tbody>\n",
       "    <tr>\n",
       "      <th>1370</th>\n",
       "      <td>1.0</td>\n",
       "      <td>0.003198</td>\n",
       "      <td>0</td>\n",
       "      <td>0</td>\n",
       "      <td>0</td>\n",
       "      <td>0</td>\n",
       "      <td>0</td>\n",
       "      <td>0</td>\n",
       "      <td>1</td>\n",
       "      <td>0</td>\n",
       "      <td>...</td>\n",
       "      <td>0</td>\n",
       "      <td>1</td>\n",
       "      <td>0</td>\n",
       "      <td>0</td>\n",
       "      <td>0</td>\n",
       "      <td>0</td>\n",
       "      <td>0</td>\n",
       "      <td>0</td>\n",
       "      <td>0.752688</td>\n",
       "      <td>0.559006</td>\n",
       "    </tr>\n",
       "    <tr>\n",
       "      <th>2628</th>\n",
       "      <td>2.0</td>\n",
       "      <td>0.019190</td>\n",
       "      <td>0</td>\n",
       "      <td>0</td>\n",
       "      <td>0</td>\n",
       "      <td>0</td>\n",
       "      <td>0</td>\n",
       "      <td>0</td>\n",
       "      <td>1</td>\n",
       "      <td>0</td>\n",
       "      <td>...</td>\n",
       "      <td>0</td>\n",
       "      <td>1</td>\n",
       "      <td>0</td>\n",
       "      <td>0</td>\n",
       "      <td>0</td>\n",
       "      <td>0</td>\n",
       "      <td>0</td>\n",
       "      <td>0</td>\n",
       "      <td>0.655914</td>\n",
       "      <td>0.546584</td>\n",
       "    </tr>\n",
       "    <tr>\n",
       "      <th>2842</th>\n",
       "      <td>1.0</td>\n",
       "      <td>0.005330</td>\n",
       "      <td>0</td>\n",
       "      <td>0</td>\n",
       "      <td>0</td>\n",
       "      <td>0</td>\n",
       "      <td>0</td>\n",
       "      <td>0</td>\n",
       "      <td>1</td>\n",
       "      <td>0</td>\n",
       "      <td>...</td>\n",
       "      <td>0</td>\n",
       "      <td>1</td>\n",
       "      <td>0</td>\n",
       "      <td>0</td>\n",
       "      <td>0</td>\n",
       "      <td>0</td>\n",
       "      <td>0</td>\n",
       "      <td>0</td>\n",
       "      <td>0.795699</td>\n",
       "      <td>0.521739</td>\n",
       "    </tr>\n",
       "    <tr>\n",
       "      <th>4958</th>\n",
       "      <td>1.0</td>\n",
       "      <td>0.253731</td>\n",
       "      <td>1</td>\n",
       "      <td>0</td>\n",
       "      <td>0</td>\n",
       "      <td>0</td>\n",
       "      <td>0</td>\n",
       "      <td>0</td>\n",
       "      <td>0</td>\n",
       "      <td>0</td>\n",
       "      <td>...</td>\n",
       "      <td>0</td>\n",
       "      <td>1</td>\n",
       "      <td>0</td>\n",
       "      <td>0</td>\n",
       "      <td>0</td>\n",
       "      <td>0</td>\n",
       "      <td>0</td>\n",
       "      <td>0</td>\n",
       "      <td>0.602151</td>\n",
       "      <td>0.521739</td>\n",
       "    </tr>\n",
       "    <tr>\n",
       "      <th>6478</th>\n",
       "      <td>1.0</td>\n",
       "      <td>0.010661</td>\n",
       "      <td>0</td>\n",
       "      <td>0</td>\n",
       "      <td>0</td>\n",
       "      <td>0</td>\n",
       "      <td>0</td>\n",
       "      <td>0</td>\n",
       "      <td>0</td>\n",
       "      <td>0</td>\n",
       "      <td>...</td>\n",
       "      <td>0</td>\n",
       "      <td>1</td>\n",
       "      <td>0</td>\n",
       "      <td>0</td>\n",
       "      <td>0</td>\n",
       "      <td>0</td>\n",
       "      <td>0</td>\n",
       "      <td>0</td>\n",
       "      <td>0.774194</td>\n",
       "      <td>0.447205</td>\n",
       "    </tr>\n",
       "    <tr>\n",
       "      <th>...</th>\n",
       "      <td>...</td>\n",
       "      <td>...</td>\n",
       "      <td>...</td>\n",
       "      <td>...</td>\n",
       "      <td>...</td>\n",
       "      <td>...</td>\n",
       "      <td>...</td>\n",
       "      <td>...</td>\n",
       "      <td>...</td>\n",
       "      <td>...</td>\n",
       "      <td>...</td>\n",
       "      <td>...</td>\n",
       "      <td>...</td>\n",
       "      <td>...</td>\n",
       "      <td>...</td>\n",
       "      <td>...</td>\n",
       "      <td>...</td>\n",
       "      <td>...</td>\n",
       "      <td>...</td>\n",
       "      <td>...</td>\n",
       "      <td>...</td>\n",
       "    </tr>\n",
       "    <tr>\n",
       "      <th>31878</th>\n",
       "      <td>8.2</td>\n",
       "      <td>0.000000</td>\n",
       "      <td>0</td>\n",
       "      <td>0</td>\n",
       "      <td>0</td>\n",
       "      <td>0</td>\n",
       "      <td>0</td>\n",
       "      <td>0</td>\n",
       "      <td>0</td>\n",
       "      <td>0</td>\n",
       "      <td>...</td>\n",
       "      <td>0</td>\n",
       "      <td>1</td>\n",
       "      <td>0</td>\n",
       "      <td>0</td>\n",
       "      <td>0</td>\n",
       "      <td>0</td>\n",
       "      <td>0</td>\n",
       "      <td>0</td>\n",
       "      <td>0.956989</td>\n",
       "      <td>0.000000</td>\n",
       "    </tr>\n",
       "    <tr>\n",
       "      <th>32144</th>\n",
       "      <td>8.1</td>\n",
       "      <td>0.061834</td>\n",
       "      <td>0</td>\n",
       "      <td>0</td>\n",
       "      <td>0</td>\n",
       "      <td>0</td>\n",
       "      <td>0</td>\n",
       "      <td>0</td>\n",
       "      <td>1</td>\n",
       "      <td>0</td>\n",
       "      <td>...</td>\n",
       "      <td>0</td>\n",
       "      <td>1</td>\n",
       "      <td>0</td>\n",
       "      <td>0</td>\n",
       "      <td>0</td>\n",
       "      <td>0</td>\n",
       "      <td>0</td>\n",
       "      <td>0</td>\n",
       "      <td>0.967742</td>\n",
       "      <td>0.583851</td>\n",
       "    </tr>\n",
       "    <tr>\n",
       "      <th>33420</th>\n",
       "      <td>8.6</td>\n",
       "      <td>0.136461</td>\n",
       "      <td>0</td>\n",
       "      <td>0</td>\n",
       "      <td>0</td>\n",
       "      <td>0</td>\n",
       "      <td>0</td>\n",
       "      <td>1</td>\n",
       "      <td>0</td>\n",
       "      <td>0</td>\n",
       "      <td>...</td>\n",
       "      <td>0</td>\n",
       "      <td>0</td>\n",
       "      <td>0</td>\n",
       "      <td>1</td>\n",
       "      <td>0</td>\n",
       "      <td>0</td>\n",
       "      <td>0</td>\n",
       "      <td>0</td>\n",
       "      <td>0.967742</td>\n",
       "      <td>1.000000</td>\n",
       "    </tr>\n",
       "    <tr>\n",
       "      <th>34001</th>\n",
       "      <td>8.2</td>\n",
       "      <td>0.157783</td>\n",
       "      <td>0</td>\n",
       "      <td>0</td>\n",
       "      <td>0</td>\n",
       "      <td>0</td>\n",
       "      <td>0</td>\n",
       "      <td>0</td>\n",
       "      <td>1</td>\n",
       "      <td>0</td>\n",
       "      <td>...</td>\n",
       "      <td>0</td>\n",
       "      <td>1</td>\n",
       "      <td>0</td>\n",
       "      <td>0</td>\n",
       "      <td>0</td>\n",
       "      <td>0</td>\n",
       "      <td>0</td>\n",
       "      <td>0</td>\n",
       "      <td>0.774194</td>\n",
       "      <td>1.000000</td>\n",
       "    </tr>\n",
       "    <tr>\n",
       "      <th>36180</th>\n",
       "      <td>8.6</td>\n",
       "      <td>0.005566</td>\n",
       "      <td>0</td>\n",
       "      <td>0</td>\n",
       "      <td>0</td>\n",
       "      <td>0</td>\n",
       "      <td>0</td>\n",
       "      <td>0</td>\n",
       "      <td>0</td>\n",
       "      <td>0</td>\n",
       "      <td>...</td>\n",
       "      <td>0</td>\n",
       "      <td>1</td>\n",
       "      <td>0</td>\n",
       "      <td>0</td>\n",
       "      <td>0</td>\n",
       "      <td>0</td>\n",
       "      <td>0</td>\n",
       "      <td>0</td>\n",
       "      <td>0.956989</td>\n",
       "      <td>0.602484</td>\n",
       "    </tr>\n",
       "  </tbody>\n",
       "</table>\n",
       "<p>600 rows × 30 columns</p>\n",
       "</div>"
      ],
      "text/plain": [
       "       rating    budget  Action  Adventure  Animation  Comedy  Crime  \\\n",
       "1370      1.0  0.003198       0          0          0       0      0   \n",
       "2628      2.0  0.019190       0          0          0       0      0   \n",
       "2842      1.0  0.005330       0          0          0       0      0   \n",
       "4958      1.0  0.253731       1          0          0       0      0   \n",
       "6478      1.0  0.010661       0          0          0       0      0   \n",
       "...       ...       ...     ...        ...        ...     ...    ...   \n",
       "31878     8.2  0.000000       0          0          0       0      0   \n",
       "32144     8.1  0.061834       0          0          0       0      0   \n",
       "33420     8.6  0.136461       0          0          0       0      0   \n",
       "34001     8.2  0.157783       0          0          0       0      0   \n",
       "36180     8.6  0.005566       0          0          0       0      0   \n",
       "\n",
       "       Documentary  Drama  Family  ...  German  English  Spanish  French  \\\n",
       "1370             0      1       0  ...       0        1        0       0   \n",
       "2628             0      1       0  ...       0        1        0       0   \n",
       "2842             0      1       0  ...       0        1        0       0   \n",
       "4958             0      0       0  ...       0        1        0       0   \n",
       "6478             0      0       0  ...       0        1        0       0   \n",
       "...            ...    ...     ...  ...     ...      ...      ...     ...   \n",
       "31878            0      0       0  ...       0        1        0       0   \n",
       "32144            0      1       0  ...       0        1        0       0   \n",
       "33420            1      0       0  ...       0        0        0       1   \n",
       "34001            0      1       0  ...       0        1        0       0   \n",
       "36180            0      0       0  ...       0        1        0       0   \n",
       "\n",
       "       Indian  Italian  Japanese  Russian      year   runtime  \n",
       "1370        0        0         0        0  0.752688  0.559006  \n",
       "2628        0        0         0        0  0.655914  0.546584  \n",
       "2842        0        0         0        0  0.795699  0.521739  \n",
       "4958        0        0         0        0  0.602151  0.521739  \n",
       "6478        0        0         0        0  0.774194  0.447205  \n",
       "...       ...      ...       ...      ...       ...       ...  \n",
       "31878       0        0         0        0  0.956989  0.000000  \n",
       "32144       0        0         0        0  0.967742  0.583851  \n",
       "33420       0        0         0        0  0.967742  1.000000  \n",
       "34001       0        0         0        0  0.774194  1.000000  \n",
       "36180       0        0         0        0  0.956989  0.602484  \n",
       "\n",
       "[600 rows x 30 columns]"
      ]
     },
     "execution_count": 83,
     "metadata": {},
     "output_type": "execute_result"
    }
   ],
   "source": [
    "movies_cleaned2[\"budget\"] = (movies_cleaned2[\"budget\"] - movies_cleaned2[\"budget\"].min()) / (movies_cleaned2[\"budget\"].max() - movies_cleaned2[\"budget\"].min())\n",
    "movies_cleaned2[\"year\"] = (movies_cleaned2[\"year\"] - movies_cleaned2[\"year\"].min()) / (movies_cleaned2[\"year\"].max() - movies_cleaned2[\"year\"].min())\n",
    "movies_cleaned2[\"runtime\"] = (movies_cleaned2[\"runtime\"] - movies_cleaned2[\"runtime\"].min()) / (movies_cleaned2[\"runtime\"].max() - movies_cleaned2[\"runtime\"].min())\n",
    "movies_cleaned2"
   ]
  },
  {
   "cell_type": "code",
   "execution_count": 84,
   "id": "1fcb8898",
   "metadata": {},
   "outputs": [],
   "source": [
    "movies_cleaned2 = movies_cleaned2.reset_index()\n",
    "movies_cleaned2.drop('index', axis=1, inplace=True)"
   ]
  },
  {
   "cell_type": "markdown",
   "id": "66b8ab8f",
   "metadata": {},
   "source": [
    "### Machine learning model (KNN-Regresor)"
   ]
  },
  {
   "cell_type": "code",
   "execution_count": 85,
   "id": "de078ab5",
   "metadata": {},
   "outputs": [],
   "source": [
    "x = movies_cleaned2.iloc[:, 1:]\n",
    "y = movies_cleaned2.iloc[:, 0]"
   ]
  },
  {
   "cell_type": "code",
   "execution_count": 86,
   "id": "2e20d8c8",
   "metadata": {},
   "outputs": [],
   "source": [
    "X_train, X_test, y_train, y_validate = train_test_split(x, y, train_size=0.9, test_size=0.1, random_state=2755)"
   ]
  },
  {
   "cell_type": "code",
   "execution_count": 87,
   "id": "bbc7ca81",
   "metadata": {},
   "outputs": [
    {
     "data": {
      "text/plain": [
       "0.78"
      ]
     },
     "execution_count": 87,
     "metadata": {},
     "output_type": "execute_result"
    }
   ],
   "source": [
    "regresor = KNeighborsRegressor(n_neighbors = 6, weights=\"distance\") # I created our regressor\n",
    "\n",
    "regresor.fit(X_train, y_train) # Filled it with training data\n",
    "\n",
    "predictii_regresor = regresor.predict(X_test) # I made predictions, based on test data\n",
    "\n",
    "round(regresor.score(X_test, y_validate), 2)"
   ]
  },
  {
   "cell_type": "code",
   "execution_count": null,
   "id": "a5e9f791",
   "metadata": {},
   "outputs": [],
   "source": []
  }
 ],
 "metadata": {
  "kernelspec": {
   "display_name": "Python 3 (ipykernel)",
   "language": "python",
   "name": "python3"
  },
  "language_info": {
   "codemirror_mode": {
    "name": "ipython",
    "version": 3
   },
   "file_extension": ".py",
   "mimetype": "text/x-python",
   "name": "python",
   "nbconvert_exporter": "python",
   "pygments_lexer": "ipython3",
   "version": "3.9.7"
  }
 },
 "nbformat": 4,
 "nbformat_minor": 5
}
